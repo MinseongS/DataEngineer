{
 "cells": [
  {
   "cell_type": "code",
   "execution_count": 8,
   "id": "f7a4d2f9",
   "metadata": {},
   "outputs": [
    {
     "name": "stderr",
     "output_type": "stream",
     "text": [
      "Run a one-off command on a service.\n",
      "\n",
      "For example:\n",
      "\n",
      "    $ docker-compose run web python manage.py shell\n",
      "\n",
      "By default, linked services will be started, unless they are already\n",
      "running. If you do not want to start linked services, use\n",
      "`docker-compose run --no-deps SERVICE COMMAND [ARGS...]`.\n",
      "\n",
      "Usage:\n",
      "    run [options] [-v VOLUME...] [-p PORT...] [-e KEY=VAL...] [-l KEY=VALUE...] [--]\n",
      "        SERVICE [COMMAND] [ARGS...]\n",
      "\n",
      "Options:\n",
      "    -d, --detach          Detached mode: Run container in the background, print\n",
      "                          new container name.\n",
      "    --name NAME           Assign a name to the container\n",
      "    --entrypoint CMD      Override the entrypoint of the image.\n",
      "    -e KEY=VAL            Set an environment variable (can be used multiple times)\n",
      "    -l, --label KEY=VAL   Add or override a label (can be used multiple times)\n",
      "    -u, --user=\"\"         Run as specified username or uid\n",
      "    --no-deps             Don't start linked services.\n",
      "    --rm                  Remove container after run. Ignored in detached mode.\n",
      "    -p, --publish=[]      Publish a container's port(s) to the host\n",
      "    --service-ports       Run command with the service's ports enabled and mapped\n",
      "                          to the host.\n",
      "    --use-aliases         Use the service's network aliases in the network(s) the\n",
      "                          container connects to.\n",
      "    -v, --volume=[]       Bind mount a volume (default [])\n",
      "    -T                    Disable pseudo-tty allocation. By default `docker-compose run`\n",
      "                          allocates a TTY.\n",
      "    -w, --workdir=\"\"      Working directory inside the container\n",
      "Building api2\n",
      "Image for service api2 was built because it did not already exist. To rebuild this image you must use `docker-compose build` or `docker-compose up --build`.\n",
      "Creating dataengineer_api2_run ... \n",
      "\n",
      "Creating dataengineer_api2_run ... done\n",
      "\n",
      "137\n"
     ]
    },
    {
     "name": "stdout",
     "output_type": "stream",
     "text": [
      "Step 1/7 : FROM python:3.8\n",
      " ---> 63c8db7db039\n",
      "Step 2/7 : WORKDIR /app/\n",
      " ---> Using cache\n",
      " ---> 57e065cf3141\n",
      "Step 3/7 : RUN pip install pymysql cryptography\n",
      " ---> Running in f2d1d8c62b20\n",
      "Collecting pymysql\n",
      "  Downloading PyMySQL-1.0.2-py3-none-any.whl (43 kB)\n",
      "     ━━━━━━━━━━━━━━━━━━━━━━━━━━━━━━━━━━━━━━━━ 43.8/43.8 KB 4.7 MB/s eta 0:00:00\n",
      "Collecting cryptography\n",
      "  Downloading cryptography-37.0.2-cp36-abi3-manylinux_2_24_x86_64.whl (4.0 MB)\n",
      "     ━━━━━━━━━━━━━━━━━━━━━━━━━━━━━━━━━━━━━━━━ 4.0/4.0 MB 5.8 MB/s eta 0:00:00\n",
      "Collecting cffi>=1.12\n",
      "  Downloading cffi-1.15.0-cp38-cp38-manylinux_2_12_x86_64.manylinux2010_x86_64.whl (446 kB)\n",
      "     ━━━━━━━━━━━━━━━━━━━━━━━━━━━━━━━━━━━━━━━ 446.7/446.7 KB 5.2 MB/s eta 0:00:00\n",
      "Collecting pycparser\n",
      "  Downloading pycparser-2.21-py2.py3-none-any.whl (118 kB)\n",
      "     ━━━━━━━━━━━━━━━━━━━━━━━━━━━━━━━━━━━━━━━ 118.7/118.7 KB 6.7 MB/s eta 0:00:00\n",
      "Installing collected packages: pymysql, pycparser, cffi, cryptography\n",
      "Successfully installed cffi-1.15.0 cryptography-37.0.2 pycparser-2.21 pymysql-1.0.2\n",
      "\u001b[91mWARNING: Running pip as the 'root' user can result in broken permissions and conflicting behaviour with the system package manager. It is recommended to use a virtual environment instead: https://pip.pypa.io/warnings/venv\n",
      "\u001b[0mRemoving intermediate container f2d1d8c62b20\n",
      " ---> 764fc3c6bb55\n",
      "Step 4/7 : ENV TZ Asia/Seoul\n",
      " ---> Running in d5d158b3d1a8\n",
      "Removing intermediate container d5d158b3d1a8\n",
      " ---> 6d9bb140a079\n",
      "Step 5/7 : COPY . .\n",
      " ---> 19cefb7341f6\n",
      "Step 6/7 : EXPOSE 8001\n",
      " ---> Running in 717f6991d5c8\n",
      "Removing intermediate container 717f6991d5c8\n",
      " ---> d05598e3629c\n",
      "Step 7/7 : CMD [\"python\", \"./api2.py\"]\n",
      " ---> Running in f62d0211e160\n",
      "Removing intermediate container f62d0211e160\n",
      " ---> 97e1dc9b0bc0\n",
      "\n",
      "Successfully built 97e1dc9b0bc0\n",
      "Successfully tagged dataengineer_api2:latest\n",
      "x, y, �궇吏�(yyyymmdd)\n"
     ]
    }
   ],
   "source": [
    "!docker-compose run --no-deps -rm api2"
   ]
  },
  {
   "cell_type": "code",
   "execution_count": null,
   "id": "cd8edc9e",
   "metadata": {},
   "outputs": [],
   "source": []
  }
 ],
 "metadata": {
  "kernelspec": {
   "display_name": "Python 3 (ipykernel)",
   "language": "python",
   "name": "python3"
  },
  "language_info": {
   "codemirror_mode": {
    "name": "ipython",
    "version": 3
   },
   "file_extension": ".py",
   "mimetype": "text/x-python",
   "name": "python",
   "nbconvert_exporter": "python",
   "pygments_lexer": "ipython3",
   "version": "3.9.7"
  }
 },
 "nbformat": 4,
 "nbformat_minor": 5
}
