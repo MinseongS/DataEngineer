{
 "cells": [
  {
   "cell_type": "code",
   "execution_count": 48,
   "id": "ef4eb159",
   "metadata": {},
   "outputs": [],
   "source": [
    "import matplotlib.pyplot as plt \n",
    "import re"
   ]
  },
  {
   "cell_type": "code",
   "execution_count": 62,
   "id": "3c6e227e",
   "metadata": {},
   "outputs": [],
   "source": [
    "result = !echo 60 120 20220508| docker-compose run --no-deps --rm api2 "
   ]
  },
  {
   "cell_type": "code",
   "execution_count": 64,
   "id": "fd5f39b4",
   "metadata": {},
   "outputs": [],
   "source": [
    "data = result[-4:]"
   ]
  },
  {
   "cell_type": "code",
   "execution_count": 65,
   "id": "da282a4d",
   "metadata": {},
   "outputs": [],
   "source": [
    "p = re.compile(\"[0-9]+\\.*[0-9]*\")"
   ]
  },
  {
   "cell_type": "code",
   "execution_count": 66,
   "id": "a35a3102",
   "metadata": {},
   "outputs": [],
   "source": [
    "output = []\n",
    "for d in data:\n",
    "    temp = p.findall(d)\n",
    "    output.append(temp)"
   ]
  },
  {
   "cell_type": "code",
   "execution_count": 68,
   "id": "11878c99",
   "metadata": {},
   "outputs": [
    {
     "name": "stdout",
     "output_type": "stream",
     "text": [
      "하루 기온 최대값, 최소값, 중간값 : 17.6, 14.0, 16.4\n",
      "하루 습도 최대값, 최소값, 중간값 : 66, 40, 42.00\n",
      "하루 풍속 최대값, 최소값, 중간값 : 4.2, 0.8, 2.6\n",
      "1일 누적 강수량 : 0\n"
     ]
    }
   ],
   "source": [
    "if len(output[3]) == 1:\n",
    "    print(f\"하루 기온 최대값, 최소값, 중간값 : {output[0][0]}, {output[0][1]}, {output[0][2]}\")\n",
    "    print(f\"하루 습도 최대값, 최소값, 중간값 : {output[1][0]}, {output[1][1]}, {output[1][2]}\")\n",
    "    print(f\"하루 풍속 최대값, 최소값, 중간값 : {output[2][0]}, {output[2][1]}, {output[2][2]}\")\n",
    "    print(f\"1일 누적 강수량 : {output[3][0]}\")\n",
    "else:\n",
    "    print('해당 날짜의 데이터가 없습니다. 입력 날짜를 다시 확인해 주세요.')"
   ]
  },
  {
   "cell_type": "code",
   "execution_count": null,
   "id": "a6307628",
   "metadata": {},
   "outputs": [],
   "source": []
  }
 ],
 "metadata": {
  "kernelspec": {
   "display_name": "Python 3 (ipykernel)",
   "language": "python",
   "name": "python3"
  },
  "language_info": {
   "codemirror_mode": {
    "name": "ipython",
    "version": 3
   },
   "file_extension": ".py",
   "mimetype": "text/x-python",
   "name": "python",
   "nbconvert_exporter": "python",
   "pygments_lexer": "ipython3",
   "version": "3.9.7"
  }
 },
 "nbformat": 4,
 "nbformat_minor": 5
}
