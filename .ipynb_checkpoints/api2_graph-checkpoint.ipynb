{
 "cells": [
  {
   "cell_type": "code",
   "execution_count": 1,
   "id": "ef4eb159",
   "metadata": {},
   "outputs": [],
   "source": [
    "import matplotlib.pyplot as plt \n",
    "import re"
   ]
  },
  {
   "cell_type": "code",
   "execution_count": 30,
   "id": "3c6e227e",
   "metadata": {},
   "outputs": [],
   "source": [
    "result = !echo 60 120 20220506 | docker-compose run --no-deps --rm api2 "
   ]
  },
  {
   "cell_type": "code",
   "execution_count": 38,
   "id": "fd5f39b4",
   "metadata": {},
   "outputs": [],
   "source": [
    "data = result[-4:]"
   ]
  },
  {
   "cell_type": "code",
   "execution_count": 41,
   "id": "da282a4d",
   "metadata": {},
   "outputs": [],
   "source": [
    "p = re.compile(\"[0-9]+\\.*[0-9]*\")"
   ]
  },
  {
   "cell_type": "code",
   "execution_count": 43,
   "id": "a35a3102",
   "metadata": {},
   "outputs": [],
   "source": [
    "output = []\n",
    "for d in data:\n",
    "    temp = p.findall(d)\n",
    "    output.append(temp)"
   ]
  },
  {
   "cell_type": "code",
   "execution_count": 44,
   "id": "c2a3dc83",
   "metadata": {},
   "outputs": [
    {
     "data": {
      "text/plain": [
       "[['25.2', '13.3', '17.3'], ['99', '18', '83.00'], ['5.5', '0.0', '2.0'], ['0']]"
      ]
     },
     "execution_count": 44,
     "metadata": {},
     "output_type": "execute_result"
    }
   ],
   "source": [
    "output"
   ]
  },
  {
   "cell_type": "code",
   "execution_count": 47,
   "id": "11878c99",
   "metadata": {},
   "outputs": [
    {
     "name": "stdout",
     "output_type": "stream",
     "text": [
      "하루 기온 최대값, 최소값, 중간값 : 25.2, 13.3, 17.3\n",
      "하루 습도 최대값, 최소값, 중간값 : 99, 18, 83.00\n",
      "하루 풍속 최대값, 최소값, 중간값 : 5.5, 0.0, 2.0\n",
      "1일 누적 강수량 : 0\n"
     ]
    }
   ],
   "source": [
    "print(f\"하루 기온 최대값, 최소값, 중간값 : {output[0][0]}, {output[0][1]}, {output[0][2]}\")\n",
    "print(f\"하루 습도 최대값, 최소값, 중간값 : {output[1][0]}, {output[1][1]}, {output[1][2]}\")\n",
    "print(f\"하루 풍속 최대값, 최소값, 중간값 : {output[2][0]}, {output[2][1]}, {output[2][2]}\")\n",
    "print(f\"1일 누적 강수량 : {output[3][0]}\")"
   ]
  },
  {
   "cell_type": "code",
   "execution_count": null,
   "id": "a6307628",
   "metadata": {},
   "outputs": [],
   "source": []
  }
 ],
 "metadata": {
  "kernelspec": {
   "display_name": "Python 3 (ipykernel)",
   "language": "python",
   "name": "python3"
  },
  "language_info": {
   "codemirror_mode": {
    "name": "ipython",
    "version": 3
   },
   "file_extension": ".py",
   "mimetype": "text/x-python",
   "name": "python",
   "nbconvert_exporter": "python",
   "pygments_lexer": "ipython3",
   "version": "3.9.7"
  }
 },
 "nbformat": 4,
 "nbformat_minor": 5
}
